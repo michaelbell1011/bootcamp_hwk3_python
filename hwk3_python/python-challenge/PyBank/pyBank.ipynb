{
 "cells": [
  {
   "cell_type": "code",
   "execution_count": null,
   "metadata": {},
   "outputs": [],
   "source": [
    "# # Your task is to create a Python script that analyzes the records to calculate each of the following:\n",
    "\n",
    "# # The total number of months included in the dataset\n",
    "# # The total net amount of \"Profit/Losses\" over the entire period\n",
    "# # The average change in \"Profit/Losses\" between months over the entire period\n",
    "# # The greatest increase in profits (date and amount) over the entire period\n",
    "# # The greatest decrease in losses (date and amount) over the entire period\n",
    "\n",
    "# your final script should both print the analysis to the terminal and export a text file with the results.\n",
    "\n",
    "# As an example, your analysis should look similar to the one below:\n",
    "\n",
    "# Financial Analysis\n",
    "# ----------------------------\n",
    "# Total Months: 86\n",
    "# Total: $38382578\n",
    "# Average  Change: $-2315.12\n",
    "# Greatest Increase in Profits: Feb-2012 ($1926159)\n",
    "# Greatest Decrease in Profits: Sep-2013 ($-2196167)"
   ]
  },
  {
   "cell_type": "code",
   "execution_count": 3,
   "metadata": {},
   "outputs": [],
   "source": [
    "# Dependencies\n",
    "import os\n",
    "import csv"
   ]
  },
  {
   "cell_type": "code",
   "execution_count": 5,
   "metadata": {},
   "outputs": [],
   "source": [
    "# lists for storing parsed csv data\n",
    "months = []\n",
    "profits = []\n",
    "\n",
    "# read in csv\n",
    "csvpath = os.path.join('budget_data.csv')\n",
    "with open(csvpath, newline='') as csvfile:\n",
    "\n",
    "    # CSV reader specifies delimiter and variable that holds contents\n",
    "    csvreader = csv.reader(csvfile, delimiter=',')\n",
    "    \n",
    "#     prints the csv object\n",
    "#     print(csvreader)\n",
    "\n",
    "#     # Read the header row first (skip this step if there is now header)\n",
    "    csv_header = next(csvreader)\n",
    "#     print(f\"CSV Header: {csv_header}\")\n",
    "    \n",
    "    # Read each row of data after the header and compile data into separate lists\n",
    "    for row in csvreader:\n",
    "#         print(row)\n",
    "        months.append(row[0])\n",
    "        profits.append(int(row[1]))\n",
    "#         profits_delta.append(int(row[1]) - profits_delta[-1])\n"
   ]
  },
  {
   "cell_type": "code",
   "execution_count": 28,
   "metadata": {},
   "outputs": [
    {
     "name": "stdout",
     "output_type": "stream",
     "text": [
      "-196785\n",
      "[116771, -662642, -391430, 379920, 212354, 510239, -428211, -821271, 693918, 416278, -974163, 860159, -1115009, 1033048, 95318, -308093, 99052, -521393, 605450, 231727, -65187, -702716, 177975, -1065544, 1926159, -917805, 898730, -334262, -246499, -64055, -1529236, 1497596, 304914, -635801, 398319, -183161, -37864, -253689, 403655, 94168, 306877, -83000, 210462, -2196167, 1465222, -956983, 1838447, -468003, -64602, 206242, -242155, -449079, 315198, 241099, 111540, 365942, -219310, -368665, 409837, 151210, -110244, -341938, -1212159, 683246, -70825, 335594, 417334, -272194, -236462, 657432, -211262, -128237, -1750387, 925441, 932089, -311434, 267252, -1876758, 1733696, 198551, -665765, 693229, -734926, 77242, 532869]\n",
      "Average change in Profits between Months: $-2315\n"
     ]
    }
   ],
   "source": [
    "# # caluculating The average CHANGE in \"Profit/Losses\" between months over the entire period\n",
    "# Average Profits Delta\n",
    "        # # NOT average profits:\n",
    "        # avg_profits = Net_Profits / len(profits)\n",
    "        # print(f\"Total Average Profits: ${avg_profits}\")\n",
    "prev_prof = 0\n",
    "profits_delta_list = []\n",
    "\n",
    "for n in profits:\n",
    "    profits_delta_list.append(n - prev_prof)\n",
    "    prev_prof = n\n",
    "\n",
    "# print(sum(profits_delta_list[1:]))\n",
    "# print(profits_delta_list[1:])\n",
    "\n",
    "avg_profits_delta = round(sum(profits_delta_list[1:])/(len(profits_delta_list)-1))\n",
    "print(f\"Average change in Profits between Months: ${avg_profits_delta}\")"
   ]
  },
  {
   "cell_type": "code",
   "execution_count": null,
   "metadata": {},
   "outputs": [],
   "source": [
    "# # The greatest increase in profits (date and amount) over the entire period\n",
    "greatest_delta = max(profits_delta_list)\n",
    "# print(greatest_delta)\n",
    "\n",
    "greatest_delta_ndx = profits_delta_list.index(max(profits_delta_list))\n",
    "greatest_delta_mo = months[greatest_delta_ndx]\n",
    "\n",
    "# print(f\"Greatest increase in Profits between Months was: {greatest_delta_mo} (${greatest_delta})\")\n"
   ]
  },
  {
   "cell_type": "code",
   "execution_count": null,
   "metadata": {},
   "outputs": [],
   "source": [
    "# # The greatest decrease in losses (date and amount) over the entire period\n",
    "smallest_delta = min(profits_delta_list)\n",
    "# print(smallest_delta)\n",
    "\n",
    "smallest_delta_ndx = profits_delta_list.index(min(profits_delta_list))\n",
    "smallest_delta_mo = months[smallest_delta_ndx]\n",
    "\n",
    "# print(f\"Greatest descrease in Profits between Months was: {smallest_delta_mo} (${smallest_delta})\")"
   ]
  },
  {
   "cell_type": "code",
   "execution_count": null,
   "metadata": {},
   "outputs": [],
   "source": [
    "# Output table\n",
    "print('''Financial Analysis\n",
    "=====================================\n",
    "''')\n",
    "# # The total number of months included in the dataset\n",
    "# count of month entries\n",
    "print(\"Total number of Month entries:\" + str(len(months)))\n",
    "\n",
    "# # The total net amount of \"Profit/Losses\" over the entire period\n",
    "# net profits\n",
    "Net_Profits = sum(profits)\n",
    "print(f\"Total Net Profits: ${Net_Profits}\")\n",
    "\n",
    "# # The average CHANGE in \"Profit/Losses\" between months over the entire period\n",
    "# Average Profits Delta\n",
    "print(f\"Average change in Profits between Months: ${avg_profits_delta}\")\n",
    "\n",
    "# # The greatest increase in profits (date and amount) over the entire period\n",
    "print(f\"Greatest increase in Profits: {greatest_delta_mo} (${greatest_delta})\")\n",
    "\n",
    "# # The greatest decrease in losses (date and amount) over the entire period\n",
    "print(f\"Greatest descrease in Profits: {smallest_delta_mo} (${smallest_delta})\")"
   ]
  },
  {
   "cell_type": "code",
   "execution_count": null,
   "metadata": {},
   "outputs": [],
   "source": []
  }
 ],
 "metadata": {
  "kernelspec": {
   "display_name": "Python 3",
   "language": "python",
   "name": "python3"
  },
  "language_info": {
   "codemirror_mode": {
    "name": "ipython",
    "version": 3
   },
   "file_extension": ".py",
   "mimetype": "text/x-python",
   "name": "python",
   "nbconvert_exporter": "python",
   "pygments_lexer": "ipython3",
   "version": "3.6.5"
  }
 },
 "nbformat": 4,
 "nbformat_minor": 2
}
